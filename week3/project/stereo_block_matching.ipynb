{
 "cells": [
  {
   "cell_type": "markdown",
   "metadata": {},
   "source": [
    "# Stereo Block Matching Overview\n",
    "Stereo block matching is a method used in computer vision to estimate depth by comparing two images (usually a left and right image from a stereo camera setup). The goal is to find corresponding pixels between the two images to compute disparities, which can then be used to infer depth information.\n"
   ]
  },
  {
   "cell_type": "markdown",
   "metadata": {},
   "source": [
    "## Intermediate Step 1: Sum of Absolute Differences (SAD)\n",
    "### Objective:\n",
    "Implement a function that calculates the **Sum of Absolute Differences (SAD)** between two equal-sized images (or image patches).\n",
    "\n",
    "### Concept Explanation:\n",
    "- **Sum of Absolute Differences (SAD)** is a simple and commonly used metric for block matching. It computes the absolute difference between corresponding pixel values of two images or image patches and sums them up.\n"
   ]
  },
  {
   "cell_type": "markdown",
   "metadata": {},
   "source": [
    "### Approach:\n",
    "1. **Read the Images**:\n",
    "    - Use a library like `OpenCV` (cv2) or `PIL` (Image) to read `nose_left.png` and `nose_right.png`.\n",
    "    - Ensure the images are converted to grayscale if they are not already, as color can complicate the SAD calculation.\n",
    "2. **Calculate SAD**:\n",
    "    - Subtract one image from the other.\n",
    "    - Take the absolute value of the result.\n",
    "    - Sum all the values to get the SAD."
   ]
  },
  {
   "cell_type": "code",
   "execution_count": 1,
   "metadata": {},
   "outputs": [],
   "source": [
    "import cv2\n",
    "from matplotlib import pyplot as plt\n",
    "import numpy as np"
   ]
  },
  {
   "cell_type": "code",
   "execution_count": 7,
   "metadata": {},
   "outputs": [
    {
     "ename": "error",
     "evalue": "OpenCV(4.10.0) D:\\a\\opencv-python\\opencv-python\\opencv\\modules\\imgproc\\src\\color.cpp:196: error: (-215:Assertion failed) !_src.empty() in function 'cv::cvtColor'\n",
     "output_type": "error",
     "traceback": [
      "\u001b[1;31m---------------------------------------------------------------------------\u001b[0m",
      "\u001b[1;31merror\u001b[0m                                     Traceback (most recent call last)",
      "Cell \u001b[1;32mIn[7], line 9\u001b[0m\n\u001b[0;32m      6\u001b[0m right_image \u001b[38;5;241m=\u001b[39m cv2\u001b[38;5;241m.\u001b[39mimread(\u001b[38;5;124m'\u001b[39m\u001b[38;5;124mproject/nose_right.png\u001b[39m\u001b[38;5;124m'\u001b[39m)\n\u001b[0;32m      8\u001b[0m \u001b[38;5;66;03m# Convert BGR to RGB\u001b[39;00m\n\u001b[1;32m----> 9\u001b[0m left_image_rgb \u001b[38;5;241m=\u001b[39m \u001b[43mcv2\u001b[49m\u001b[38;5;241;43m.\u001b[39;49m\u001b[43mcvtColor\u001b[49m\u001b[43m(\u001b[49m\u001b[43mleft_image\u001b[49m\u001b[43m,\u001b[49m\u001b[43m \u001b[49m\u001b[43mcv2\u001b[49m\u001b[38;5;241;43m.\u001b[39;49m\u001b[43mCOLOR_BGR2RGB\u001b[49m\u001b[43m)\u001b[49m\n\u001b[0;32m     10\u001b[0m right_image_rgb \u001b[38;5;241m=\u001b[39m cv2\u001b[38;5;241m.\u001b[39mcvtColor(right_image, cv2\u001b[38;5;241m.\u001b[39mCOLOR_BGR2RGB)\n\u001b[0;32m     12\u001b[0m \u001b[38;5;66;03m# Show the images\u001b[39;00m\n",
      "\u001b[1;31merror\u001b[0m: OpenCV(4.10.0) D:\\a\\opencv-python\\opencv-python\\opencv\\modules\\imgproc\\src\\color.cpp:196: error: (-215:Assertion failed) !_src.empty() in function 'cv::cvtColor'\n"
     ]
    }
   ],
   "source": [
    "import cv2\n",
    "import matplotlib.pyplot as plt\n",
    "\n",
    "# Read the image\n",
    "left_image = cv2.imread('project/nose_left.png')\n",
    "right_image = cv2.imread('project/nose_right.png')\n",
    "\n",
    "# Convert BGR to RGB\n",
    "left_image_rgb = cv2.cvtColor(left_image, cv2.COLOR_BGR2RGB)\n",
    "right_image_rgb = cv2.cvtColor(right_image, cv2.COLOR_BGR2RGB)\n",
    "\n",
    "# Show the images\n",
    "plt.subplot(1, 2, 1)\n",
    "plt.imshow(left_image_rgb)\n",
    "plt.title('Left Image')\n",
    "plt.xticks([])\n",
    "plt.yticks([])\n",
    "plt.subplot(1, 2, 2)\n",
    "plt.imshow(right_image_rgb)\n",
    "plt.title('Right Image')\n",
    "plt.xticks([])\n",
    "plt.yticks([])\n",
    "plt.show()\n"
   ]
  },
  {
   "cell_type": "markdown",
   "metadata": {},
   "source": []
  }
 ],
 "metadata": {
  "kernelspec": {
   "display_name": "pfas",
   "language": "python",
   "name": "python3"
  },
  "language_info": {
   "codemirror_mode": {
    "name": "ipython",
    "version": 3
   },
   "file_extension": ".py",
   "mimetype": "text/x-python",
   "name": "python",
   "nbconvert_exporter": "python",
   "pygments_lexer": "ipython3",
   "version": "3.10.14"
  }
 },
 "nbformat": 4,
 "nbformat_minor": 2
}
