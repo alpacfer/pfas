{
 "cells": [
  {
   "attachments": {},
   "cell_type": "markdown",
   "metadata": {},
   "source": [
    "# Weekly Project 5 \n",
    "## Implementation of global registration \n",
    "### Task 1\n",
    "Today, your task is to implement a global registration algorithm.\n",
    "\n",
    "It should be able to roughly align two point clouds.\n",
    "Implement the global registration, and then try the following:\n",
    "\n",
    "1. Can you fit `r1.pcd` and `r2.pcd`?\n",
    "2. Can you fit `car1.ply` and `car2.ply`?\n",
    "The corresponding files are in the `global_registration` folder.\n",
    "\n",
    "\n",
    "### Task 2 (Challange)\n",
    "Challanges attempt either or both:\n",
    "- Implement local registration.\n",
    "\n",
    "- Attempt to reconstruct the car from the images in `car_challange` folder.\n",
    "\n",
    "You can use the notebooks from Monday as a starting point."
   ]
  }
 ],
 "metadata": {
  "kernelspec": {
   "display_name": "pfas",
   "language": "python",
   "name": "python3"
  },
  "language_info": {
   "codemirror_mode": {
    "name": "ipython",
    "version": 3
   },
   "file_extension": ".py",
   "mimetype": "text/x-python",
   "name": "python",
   "nbconvert_exporter": "python",
   "pygments_lexer": "ipython3",
   "version": "3.11.5"
  }
 },
 "nbformat": 4,
 "nbformat_minor": 4
}
