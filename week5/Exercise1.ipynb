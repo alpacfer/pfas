{
 "cells": [
  {
   "attachments": {},
   "cell_type": "markdown",
   "metadata": {},
   "source": [
    "# Global registration with RANSAC\n",
    "We are going to use [open3d](http://www.open3d.org/) to handle point clouds and generation of point clouds\n",
    "We are importing the packages and defining a function which helps us drawing the point clouds."
   ]
  },
  {
   "cell_type": "code",
   "execution_count": 9,
   "metadata": {},
   "outputs": [],
   "source": [
    "import open3d as o3d\n",
    "import numpy as np\n",
    "import copy\n",
    "\n",
    "def draw_registrations(source, target, transformation=None, recolor=False, max_points=100000):\n",
    "    \"\"\"\n",
    "    Visualizes the source and target point clouds with an optional transformation and recoloring.\n",
    "\n",
    "    Parameters:\n",
    "    - source (o3d.geometry.PointCloud): The source point cloud.\n",
    "    - target (o3d.geometry.PointCloud): The target point cloud.\n",
    "    - transformation (numpy.ndarray, optional): 4x4 transformation matrix to apply to the source.\n",
    "    - recolor (bool, optional): If True, apply distinct colors to source and target.\n",
    "    - max_points (int, optional): Maximum number of points to visualize for each point cloud.\n",
    "    \"\"\"\n",
    "    # Create copies to avoid modifying the original point clouds\n",
    "    source_temp = source.copy()\n",
    "    target_temp = target.copy()\n",
    "    \n",
    "    # Downsample for visualization if necessary\n",
    "    if len(source_temp.points) > max_points:\n",
    "        source_temp = source_temp.uniform_down_sample(every_k_points=int(len(source_temp.points) / max_points))\n",
    "    if len(target_temp.points) > max_points:\n",
    "        target_temp = target_temp.uniform_down_sample(every_k_points=int(len(target_temp.points) / max_points))\n",
    "    \n",
    "    # Apply recoloring if requested\n",
    "    if recolor:\n",
    "        # Paint source and target with distinct colors\n",
    "        source_temp.paint_uniform_color([1, 0.706, 0])    # Orange\n",
    "        target_temp.paint_uniform_color([0, 0.651, 0.929])  # Blue\n",
    "    \n",
    "    # Apply transformation if provided\n",
    "    if transformation is not None:\n",
    "        source_temp.transform(transformation)\n",
    "    \n",
    "    # Use Open3D's newer visualization for better compatibility\n",
    "    try:\n",
    "        o3d.visualization.draw_geometries([source_temp, target_temp],\n",
    "                                          window_name=\"Registration\",\n",
    "                                          width=800,\n",
    "                                          height=600,\n",
    "                                          left=50,\n",
    "                                          top=50,\n",
    "                                          point_show_normal=False)\n",
    "    except Exception as e:\n",
    "        print(f\"Visualization Error: {e}\")\n"
   ]
  },
  {
   "attachments": {},
   "cell_type": "markdown",
   "metadata": {},
   "source": [
    "We need to read in our pointclouds. For that we use the `io` module of the\n",
    "open3d package (`o3d`). The following cell will open a window with a\n",
    "visualization of both point clouds `source` and `target`.\n",
    "\n",
    "Also, this page [Visualization - Open3D](http://open3d.org/html/tutorial/Basic/visualization.html)\n",
    "contains some useful examples and instructions on how to use the viewer."
   ]
  },
  {
   "cell_type": "code",
   "execution_count": 10,
   "metadata": {},
   "outputs": [
    {
     "ename": "AttributeError",
     "evalue": "'open3d.cpu.pybind.geometry.PointCloud' object has no attribute 'copy'",
     "output_type": "error",
     "traceback": [
      "\u001b[1;31m---------------------------------------------------------------------------\u001b[0m",
      "\u001b[1;31mAttributeError\u001b[0m                            Traceback (most recent call last)",
      "Cell \u001b[1;32mIn[10], line 8\u001b[0m\n\u001b[0;32m      5\u001b[0m voxel_size \u001b[38;5;241m=\u001b[39m \u001b[38;5;241m0.05\u001b[39m\n\u001b[0;32m      7\u001b[0m \u001b[38;5;66;03m# Show models side by side\u001b[39;00m\n\u001b[1;32m----> 8\u001b[0m \u001b[43mdraw_registrations\u001b[49m\u001b[43m(\u001b[49m\u001b[43msource\u001b[49m\u001b[43m,\u001b[49m\u001b[43m \u001b[49m\u001b[43mtarget\u001b[49m\u001b[43m,\u001b[49m\u001b[43m \u001b[49m\u001b[43mrecolor\u001b[49m\u001b[43m \u001b[49m\u001b[38;5;241;43m=\u001b[39;49m\u001b[43m \u001b[49m\u001b[38;5;28;43;01mFalse\u001b[39;49;00m\u001b[43m)\u001b[49m\n",
      "Cell \u001b[1;32mIn[9], line 17\u001b[0m, in \u001b[0;36mdraw_registrations\u001b[1;34m(source, target, transformation, recolor, max_points)\u001b[0m\n\u001b[0;32m      6\u001b[0m \u001b[38;5;250m\u001b[39m\u001b[38;5;124;03m\"\"\"\u001b[39;00m\n\u001b[0;32m      7\u001b[0m \u001b[38;5;124;03mVisualizes the source and target point clouds with an optional transformation and recoloring.\u001b[39;00m\n\u001b[0;32m      8\u001b[0m \n\u001b[1;32m   (...)\u001b[0m\n\u001b[0;32m     14\u001b[0m \u001b[38;5;124;03m- max_points (int, optional): Maximum number of points to visualize for each point cloud.\u001b[39;00m\n\u001b[0;32m     15\u001b[0m \u001b[38;5;124;03m\"\"\"\u001b[39;00m\n\u001b[0;32m     16\u001b[0m \u001b[38;5;66;03m# Create copies to avoid modifying the original point clouds\u001b[39;00m\n\u001b[1;32m---> 17\u001b[0m source_temp \u001b[38;5;241m=\u001b[39m \u001b[43msource\u001b[49m\u001b[38;5;241;43m.\u001b[39;49m\u001b[43mcopy\u001b[49m()\n\u001b[0;32m     18\u001b[0m target_temp \u001b[38;5;241m=\u001b[39m target\u001b[38;5;241m.\u001b[39mcopy()\n\u001b[0;32m     20\u001b[0m \u001b[38;5;66;03m# Downsample for visualization if necessary\u001b[39;00m\n",
      "\u001b[1;31mAttributeError\u001b[0m: 'open3d.cpu.pybind.geometry.PointCloud' object has no attribute 'copy'"
     ]
    }
   ],
   "source": [
    "source = o3d.io.read_point_cloud(\"ICP/r1.pcd\")\n",
    "target = o3d.io.read_point_cloud(\"ICP/r2.pcd\")\n",
    "\n",
    "# Used for downsampling.\n",
    "voxel_size = 0.05\n",
    "\n",
    "# Show models side by side\n",
    "draw_registrations(source, target, recolor = False)"
   ]
  },
  {
   "attachments": {},
   "cell_type": "markdown",
   "metadata": {},
   "source": [
    "### Finding features in pointclouds\n",
    "When working on point clouds it can be beneficial to work on a downsampled version of the point cloud,\n",
    "as it decreases the need of computation.\n",
    "\n",
    "You can use [`pointcloud.voxel_down_sample()`](http://www.open3d.org/docs/latest/python_api/open3d.geometry.PointCloud.html#open3d.geometry.PointCloud.voxel_down_sample) where `pointcloud` is the name of your point cloud object. In our case, that would be `source` and `target`.\n",
    "\n",
    "We also need to estimate the normals of the point cloud points using [`pointcloud.estimate_normals()`](http://www.open3d.org/docs/latest/python_api/open3d.geometry.PointCloud.html#open3d.geometry.PointCloud.voxel_down_sample)\n",
    "\n",
    "**Task:** Find FPFH features or correspondances of the downsampled point clouds.\n",
    "[`o3d.pipelines.registration.compute_fpfh_feature()`](http://www.open3d.org/docs/latest/python_api/open3d.pipelines.registration.compute_fpfh_feature.html)\n"
   ]
  },
  {
   "cell_type": "code",
   "execution_count": 3,
   "metadata": {},
   "outputs": [],
   "source": [
    "####\n",
    "# Downsample and find features here\n",
    "####\n",
    "\n",
    "# Downsample\n",
    "source_down = source.voxel_down_sample(voxel_size)\n",
    "target_down = target.voxel_down_sample(voxel_size)\n",
    "\n",
    "# Compute normals\n",
    "source_down.estimate_normals(\n",
    "    o3d.geometry.KDTreeSearchParamHybrid(radius=0.1, max_nn=30))\n",
    "\n",
    "target_down.estimate_normals(\n",
    "    o3d.geometry.KDTreeSearchParamHybrid(radius=0.1, max_nn=30))\n",
    "\n",
    "# Compute FPFH features\n",
    "source_fpfh = o3d.pipelines.registration.compute_fpfh_feature(\n",
    "    source_down,\n",
    "    o3d.geometry.KDTreeSearchParamHybrid(radius=0.1, max_nn=100))\n",
    "\n",
    "target_fpfh = o3d.pipelines.registration.compute_fpfh_feature(\n",
    "    target_down,\n",
    "    o3d.geometry.KDTreeSearchParamHybrid(radius=0.1, max_nn=100))\n"
   ]
  },
  {
   "cell_type": "code",
   "execution_count": 4,
   "metadata": {},
   "outputs": [],
   "source": [
    "# Draw downsamples\n",
    "draw_registrations(source_down, target_down)"
   ]
  },
  {
   "cell_type": "code",
   "execution_count": 5,
   "metadata": {},
   "outputs": [
    {
     "data": {
      "image/png": "[encoded data removed]",
      "text/plain": [
       "<Figure size 1000x500 with 2 Axes>"
      ]
     },
     "metadata": {},
     "output_type": "display_data"
    }
   ],
   "source": [
    "import matplotlib.pyplot as plt\n",
    "\n",
    "# Select an index to visualize\n",
    "index = 0  # Choose a point (0 to len(source_down.points)-1)\n",
    "\n",
    "# Extract the FPFH feature for the selected point\n",
    "source_fpfh_hist = source_fpfh.data[:, index]\n",
    "target_fpfh_hist = target_fpfh.data[:, index]\n",
    "\n",
    "# Plot the FPFH histogram for the selected point from both source and target\n",
    "plt.figure(figsize=(10, 5))\n",
    "\n",
    "plt.subplot(1, 2, 1)\n",
    "plt.bar(range(len(source_fpfh_hist)), source_fpfh_hist, color='orange')\n",
    "plt.title(f\"Source Point FPFH Histogram (Point {index})\")\n",
    "plt.xlabel('Feature Dimension')\n",
    "plt.ylabel('Feature Value')\n",
    "\n",
    "plt.subplot(1, 2, 2)\n",
    "plt.bar(range(len(target_fpfh_hist)), target_fpfh_hist, color='blue')\n",
    "plt.title(f\"Target Point FPFH Histogram (Point {index})\")\n",
    "plt.xlabel('Feature Dimension')\n",
    "plt.ylabel('Feature Value')\n",
    "\n",
    "plt.tight_layout()\n",
    "plt.show()\n"
   ]
  },
  {
   "cell_type": "code",
   "execution_count": 6,
   "metadata": {},
   "outputs": [],
   "source": [
    "import open3d as o3d\n",
    "import numpy as np\n",
    "\n",
    "# Pick a specific FPFH dimension (e.g., dimension 0)\n",
    "fpfh_dimension = 16\n",
    "\n",
    "# Normalize the FPFH values to a range between 0 and 1\n",
    "source_fpfh_values = source_fpfh.data[fpfh_dimension, :]\n",
    "source_fpfh_values_normalized = (source_fpfh_values - np.min(source_fpfh_values)) / (np.max(source_fpfh_values) - np.min(source_fpfh_values))\n",
    "\n",
    "# Convert FPFH values to RGB colors (e.g., shades of blue)\n",
    "source_colors = np.zeros((len(source_fpfh_values), 3))  # Initialize as black\n",
    "source_colors[:, 2] = source_fpfh_values_normalized  # Blue color channel is set based on FPFH values\n",
    "\n",
    "# Assign the colors to the source point cloud\n",
    "source_down.colors = o3d.utility.Vector3dVector(source_colors)\n",
    "\n",
    "# Visualize the colored point cloud\n",
    "# o3d.visualization.draw_geometries([source_down], window_name=\"FPFH Color-Coded Source Cloud\")\n"
   ]
  },
  {
   "attachments": {},
   "cell_type": "markdown",
   "metadata": {},
   "source": [
    "### RANSAC \n",
    "We will now attempt to use RANSAC to do a global registration of the two point clouds.\n",
    "\n",
    "By using the function [`o3d.pipelines.registration.registration_ransac_based_on_feature_matching`](http://www.open3d.org/docs/latest/python_api/open3d.pipelines.registration.registration_ransac_based_on_feature_matching.html) from open3d, do the following:\n",
    "\n",
    "\n",
    "Try to find the transformation from `r1.pcd` (`source`) to `r2.pcd` (`target`).\n",
    "Attempt with point-to-point and point-to-plane\n",
    "```Python\n",
    "point_to_point =  o3d.pipelines.registration.TransformationEstimationPointToPoint(False)\n",
    "point_to_plane =  o3d.pipelines.registration.TransformationEstimationPointToPlane()\n",
    "```\n",
    "\n",
    "When using RANSAC, focus on the arguments below. The rest are optional parameters.\n",
    "```Python\n",
    "ransac_result = o3d.registration.registration_ransac_based_on_feature_matching(\n",
    "    source_sample, target_sample, \n",
    "    source_fpfh, target_fpfh, \n",
    "    distance_threshold,\n",
    "    point_to_point)\n",
    "```"
   ]
  },
  {
   "cell_type": "code",
   "execution_count": 7,
   "metadata": {},
   "outputs": [],
   "source": [
    "import open3d as o3d\n",
    "import numpy as np\n",
    "\n",
    "# Define RANSAC parameters\n",
    "distance_threshold = voxel_size * 1.5  # Adjust factor as needed\n",
    "\n",
    "# Define transformation estimation methods\n",
    "point_to_point = o3d.pipelines.registration.TransformationEstimationPointToPoint(False)\n",
    "point_to_plane = o3d.pipelines.registration.TransformationEstimationPointToPlane()\n",
    "\n",
    "# Define convergence criteria with reduced iterations and appropriate confidence\n",
    "ransac_criteria = o3d.pipelines.registration.RANSACConvergenceCriteria(\n",
    "    max_iteration=100000,  # Reduced from 4,000,000 to prevent kernel crash\n",
    "    confidence=0.999        # Default value; adjust if needed\n",
    ")\n",
    "\n",
    "# Perform RANSAC registration using point-to-point\n",
    "ransac_result_p2p = o3d.pipelines.registration.registration_ransac_based_on_feature_matching(\n",
    "    source_down, target_down, \n",
    "    source_fpfh, target_fpfh, \n",
    "    mutual_filter=True,\n",
    "    max_correspondence_distance=distance_threshold,\n",
    "    estimation_method=point_to_point,\n",
    "    ransac_n=4,  # Number of points to sample for generating a pose\n",
    "    checkers=[\n",
    "        o3d.pipelines.registration.CorrespondenceCheckerBasedOnEdgeLength(0.9),\n",
    "        o3d.pipelines.registration.CorrespondenceCheckerBasedOnDistance(distance_threshold)\n",
    "    ],\n",
    "    criteria=ransac_criteria\n",
    ")"
   ]
  },
  {
   "cell_type": "code",
   "execution_count": null,
   "metadata": {},
   "outputs": [],
   "source": []
  },
  {
   "attachments": {},
   "cell_type": "markdown",
   "metadata": {},
   "source": [
    "## Exercises\n",
    "### A)\n",
    "Can you get a decent transformation from r1 to r3? (check the ICP folder)\n",
    "### B)\n",
    "With the following checkers, can you get better results from RANSAC? Try tweaking the parameters of them. Can you make point-to-plane work? Do not spend too much time on this, if you can't manage, skip it. (I was not able to get a good fit.)\n",
    "\n",
    "You can also try tweaking the `voxel_size`\n",
    "\n",
    "```Python\n",
    "corr_length = 0.9\n",
    "distance_threshold = voxel_size * 1.5\n",
    "\n",
    "c0 = o3d.pipelines.registration.CorrespondenceCheckerBasedOnEdgeLength(corr_length)\n",
    "c1 = o3d.pipelines.registration.CorrespondenceCheckerBasedOnDistance(distance_threshold)\n",
    "c2 = o3d.pipelines.registration.CorrespondenceCheckerBasedOnNormal(0.095)\n",
    "\n",
    "checker_list = [c0,c1,c2]\n",
    "\n",
    "ransac_result = o3d.registration.registration_ransac_based_on_feature_matching(\n",
    "    source_sample, target_sample, \n",
    "    source_fpfh, target_fpfh, \n",
    "    True,\n",
    "    distance_threshold,\n",
    "    point_to_point,\n",
    "    checkers = checker_list)\n",
    "```\n"
   ]
  },
  {
   "cell_type": "code",
   "execution_count": null,
   "metadata": {},
   "outputs": [],
   "source": []
  }
 ],
 "metadata": {
  "kernelspec": {
   "display_name": "pfas",
   "language": "python",
   "name": "python3"
  },
  "language_info": {
   "codemirror_mode": {
    "name": "ipython",
    "version": 3
   },
   "file_extension": ".py",
   "mimetype": "text/x-python",
   "name": "python",
   "nbconvert_exporter": "python",
   "pygments_lexer": "ipython3",
   "version": "3.10.14"
  },
  "vscode": {
   "interpreter": {
    "hash": "cd5a613775d973e3ebb98e1e77334e79b1df328fc590baa0c4f920a9a4d0a201"
   }
  }
 },
 "nbformat": 4,
 "nbformat_minor": 4
}
